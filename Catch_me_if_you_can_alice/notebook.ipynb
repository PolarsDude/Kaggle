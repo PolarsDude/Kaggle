{
 "cells": [
  {
   "cell_type": "code",
   "execution_count": 54,
   "id": "f4c705b0",
   "metadata": {},
   "outputs": [],
   "source": [
    "import polars as pl\n",
    "import polars.selectors as cs\n",
    "import polars_ds as ds\n",
    "import polars_xdt as xdt\n",
    "import pickle\n",
    "from datetime import date\n",
    "import xgboost as xgb\n",
    "import lightgbm as lgb\n",
    "from catboost import CatBoostClassifier\n",
    "from sklearn.compose import ColumnTransformer\n",
    "from sklearn.pipeline import Pipeline\n",
    "from sklearn.preprocessing import FunctionTransformer\n",
    "from sklearn.base import BaseEstimator, TransformerMixin\n",
    "from sklearn.preprocessing import OneHotEncoder\n",
    "from sklearn.model_selection import train_test_split\n",
    "from sklearn.metrics import balanced_accuracy_score\n",
    "from sklearn.metrics import precision_score\n",
    "from sklearn.metrics import roc_auc_score\n",
    "from sklearn.model_selection import GridSearchCV\n",
    "from model import model_pipeline\n",
    "from features import *\n",
    "from plotnine import (\n",
    "    ggplot,\n",
    "    aes,\n",
    "    geom_bar,\n",
    "    geom_histogram,\n",
    "    coord_flip,\n",
    "    theme_classic,\n",
    "    theme,\n",
    "    labs,\n",
    "    facet_wrap,\n",
    "    theme_minimal,\n",
    "    theme_bw,\n",
    "    scale_x_continuous,\n",
    ")"
   ]
  },
  {
   "cell_type": "code",
   "execution_count": 55,
   "id": "128c9b66",
   "metadata": {},
   "outputs": [],
   "source": [
    "df = pl.read_csv(\"train_sessions.csv\")"
   ]
  },
  {
   "cell_type": "code",
   "execution_count": 56,
   "id": "9c0bcb0d",
   "metadata": {},
   "outputs": [
    {
     "data": {
      "text/html": [
       "<div><style>\n",
       ".dataframe > thead > tr,\n",
       ".dataframe > tbody > tr {\n",
       "  text-align: right;\n",
       "  white-space: pre-wrap;\n",
       "}\n",
       "</style>\n",
       "<small>shape: (2, 2)</small><table border=\"1\" class=\"dataframe\"><thead><tr><th>target</th><th>len</th></tr><tr><td>i64</td><td>u32</td></tr></thead><tbody><tr><td>0</td><td>251264</td></tr><tr><td>1</td><td>2297</td></tr></tbody></table></div>"
      ],
      "text/plain": [
       "shape: (2, 2)\n",
       "┌────────┬────────┐\n",
       "│ target ┆ len    │\n",
       "│ ---    ┆ ---    │\n",
       "│ i64    ┆ u32    │\n",
       "╞════════╪════════╡\n",
       "│ 0      ┆ 251264 │\n",
       "│ 1      ┆ 2297   │\n",
       "└────────┴────────┘"
      ]
     },
     "execution_count": 56,
     "metadata": {},
     "output_type": "execute_result"
    }
   ],
   "source": [
    "df.group_by(\"target\").agg(pl.len())"
   ]
  },
  {
   "cell_type": "code",
   "execution_count": 57,
   "id": "c28a2312",
   "metadata": {},
   "outputs": [],
   "source": [
    "df = df.rename({\"target\": \"target_bool\"})\n",
    "df = df.with_columns(\n",
    "    pl.col(\"target_bool\")\n",
    "    .cast(pl.String)\n",
    "    .replace(\"1\", \"Alice\")\n",
    "    .replace(\"0\", \"Somebody else\")\n",
    "    .alias(\"target\")\n",
    ")"
   ]
  },
  {
   "cell_type": "markdown",
   "id": "d6dc225c",
   "metadata": {},
   "source": [
    "## Feature engineering and data preparation"
   ]
  },
  {
   "cell_type": "code",
   "execution_count": 58,
   "id": "3e649419",
   "metadata": {},
   "outputs": [],
   "source": [
    "df = transform_to_datetime(df)"
   ]
  },
  {
   "cell_type": "code",
   "execution_count": 59,
   "id": "72156e8b",
   "metadata": {},
   "outputs": [
    {
     "data": {
      "text/html": [
       "<div><style>\n",
       ".dataframe > thead > tr,\n",
       ".dataframe > tbody > tr {\n",
       "  text-align: right;\n",
       "  white-space: pre-wrap;\n",
       "}\n",
       "</style>\n",
       "<small>shape: (5, 23)</small><table border=\"1\" class=\"dataframe\"><thead><tr><th>session_id</th><th>site1</th><th>datetime1</th><th>site2</th><th>datetime2</th><th>site3</th><th>datetime3</th><th>site4</th><th>datetime4</th><th>site5</th><th>datetime5</th><th>site6</th><th>datetime6</th><th>site7</th><th>datetime7</th><th>site8</th><th>datetime8</th><th>site9</th><th>datetime9</th><th>site10</th><th>datetime10</th><th>target_bool</th><th>target</th></tr><tr><td>i64</td><td>i64</td><td>datetime[μs]</td><td>i64</td><td>datetime[μs]</td><td>i64</td><td>datetime[μs]</td><td>i64</td><td>datetime[μs]</td><td>i64</td><td>datetime[μs]</td><td>i64</td><td>datetime[μs]</td><td>i64</td><td>datetime[μs]</td><td>i64</td><td>datetime[μs]</td><td>i64</td><td>datetime[μs]</td><td>i64</td><td>datetime[μs]</td><td>i64</td><td>str</td></tr></thead><tbody><tr><td>1</td><td>718</td><td>2014-02-20 10:02:45</td><td>null</td><td>null</td><td>null</td><td>null</td><td>null</td><td>null</td><td>null</td><td>null</td><td>null</td><td>null</td><td>null</td><td>null</td><td>null</td><td>null</td><td>null</td><td>null</td><td>null</td><td>null</td><td>0</td><td>&quot;Somebody else&quot;</td></tr><tr><td>2</td><td>890</td><td>2014-02-22 11:19:50</td><td>941</td><td>2014-02-22 11:19:50</td><td>3847</td><td>2014-02-22 11:19:51</td><td>941</td><td>2014-02-22 11:19:51</td><td>942</td><td>2014-02-22 11:19:51</td><td>3846</td><td>2014-02-22 11:19:51</td><td>3847</td><td>2014-02-22 11:19:52</td><td>3846</td><td>2014-02-22 11:19:52</td><td>1516</td><td>2014-02-22 11:20:15</td><td>1518</td><td>2014-02-22 11:20:16</td><td>0</td><td>&quot;Somebody else&quot;</td></tr><tr><td>3</td><td>14769</td><td>2013-12-16 16:40:17</td><td>39</td><td>2013-12-16 16:40:18</td><td>14768</td><td>2013-12-16 16:40:19</td><td>14769</td><td>2013-12-16 16:40:19</td><td>37</td><td>2013-12-16 16:40:19</td><td>39</td><td>2013-12-16 16:40:19</td><td>14768</td><td>2013-12-16 16:40:20</td><td>14768</td><td>2013-12-16 16:40:21</td><td>14768</td><td>2013-12-16 16:40:22</td><td>14768</td><td>2013-12-16 16:40:24</td><td>0</td><td>&quot;Somebody else&quot;</td></tr><tr><td>4</td><td>782</td><td>2014-03-28 10:52:12</td><td>782</td><td>2014-03-28 10:52:42</td><td>782</td><td>2014-03-28 10:53:12</td><td>782</td><td>2014-03-28 10:53:42</td><td>782</td><td>2014-03-28 10:54:12</td><td>782</td><td>2014-03-28 10:54:42</td><td>782</td><td>2014-03-28 10:55:12</td><td>782</td><td>2014-03-28 10:55:42</td><td>782</td><td>2014-03-28 10:56:12</td><td>782</td><td>2014-03-28 10:56:42</td><td>0</td><td>&quot;Somebody else&quot;</td></tr><tr><td>5</td><td>22</td><td>2014-02-28 10:53:05</td><td>177</td><td>2014-02-28 10:55:22</td><td>175</td><td>2014-02-28 10:55:22</td><td>178</td><td>2014-02-28 10:55:23</td><td>177</td><td>2014-02-28 10:55:23</td><td>178</td><td>2014-02-28 10:55:59</td><td>175</td><td>2014-02-28 10:55:59</td><td>177</td><td>2014-02-28 10:55:59</td><td>177</td><td>2014-02-28 10:57:06</td><td>178</td><td>2014-02-28 10:57:11</td><td>0</td><td>&quot;Somebody else&quot;</td></tr></tbody></table></div>"
      ],
      "text/plain": [
       "shape: (5, 23)\n",
       "┌────────────┬───────┬───────────────┬───────┬───┬────────┬───────────────┬─────────────┬──────────┐\n",
       "│ session_id ┆ site1 ┆ datetime1     ┆ site2 ┆ … ┆ site10 ┆ datetime10    ┆ target_bool ┆ target   │\n",
       "│ ---        ┆ ---   ┆ ---           ┆ ---   ┆   ┆ ---    ┆ ---           ┆ ---         ┆ ---      │\n",
       "│ i64        ┆ i64   ┆ datetime[μs]  ┆ i64   ┆   ┆ i64    ┆ datetime[μs]  ┆ i64         ┆ str      │\n",
       "╞════════════╪═══════╪═══════════════╪═══════╪═══╪════════╪═══════════════╪═════════════╪══════════╡\n",
       "│ 1          ┆ 718   ┆ 2014-02-20    ┆ null  ┆ … ┆ null   ┆ null          ┆ 0           ┆ Somebody │\n",
       "│            ┆       ┆ 10:02:45      ┆       ┆   ┆        ┆               ┆             ┆ else     │\n",
       "│ 2          ┆ 890   ┆ 2014-02-22    ┆ 941   ┆ … ┆ 1518   ┆ 2014-02-22    ┆ 0           ┆ Somebody │\n",
       "│            ┆       ┆ 11:19:50      ┆       ┆   ┆        ┆ 11:20:16      ┆             ┆ else     │\n",
       "│ 3          ┆ 14769 ┆ 2013-12-16    ┆ 39    ┆ … ┆ 14768  ┆ 2013-12-16    ┆ 0           ┆ Somebody │\n",
       "│            ┆       ┆ 16:40:17      ┆       ┆   ┆        ┆ 16:40:24      ┆             ┆ else     │\n",
       "│ 4          ┆ 782   ┆ 2014-03-28    ┆ 782   ┆ … ┆ 782    ┆ 2014-03-28    ┆ 0           ┆ Somebody │\n",
       "│            ┆       ┆ 10:52:12      ┆       ┆   ┆        ┆ 10:56:42      ┆             ┆ else     │\n",
       "│ 5          ┆ 22    ┆ 2014-02-28    ┆ 177   ┆ … ┆ 178    ┆ 2014-02-28    ┆ 0           ┆ Somebody │\n",
       "│            ┆       ┆ 10:53:05      ┆       ┆   ┆        ┆ 10:57:11      ┆             ┆ else     │\n",
       "└────────────┴───────┴───────────────┴───────┴───┴────────┴───────────────┴─────────────┴──────────┘"
      ]
     },
     "execution_count": 59,
     "metadata": {},
     "output_type": "execute_result"
    }
   ],
   "source": [
    "df.head()"
   ]
  },
  {
   "cell_type": "markdown",
   "id": "4030201f",
   "metadata": {},
   "source": [
    "Create a feature for tld"
   ]
  },
  {
   "cell_type": "code",
   "execution_count": 60,
   "id": "84e61057",
   "metadata": {},
   "outputs": [],
   "source": [
    "with open(\"site_dic.pkl\", \"rb\") as f:\n",
    "    sites = pickle.load(f)\n",
    "\n",
    "\n",
    "sites = pl.DataFrame(sites)\n",
    "sites = sites.unpivot(cs.all(), variable_name=\"sitename\", value_name=\"site\")\n",
    "sites = sites.sort(by=\"sitename\")"
   ]
  },
  {
   "cell_type": "code",
   "execution_count": 61,
   "id": "4f11fcc5",
   "metadata": {},
   "outputs": [
    {
     "data": {
      "text/html": [
       "<div><style>\n",
       ".dataframe > thead > tr,\n",
       ".dataframe > tbody > tr {\n",
       "  text-align: right;\n",
       "  white-space: pre-wrap;\n",
       "}\n",
       "</style>\n",
       "<small>shape: (48_371, 4)</small><table border=\"1\" class=\"dataframe\"><thead><tr><th>sitename</th><th>site</th><th>tld</th><th>is_common_tld</th></tr><tr><td>str</td><td>i64</td><td>str</td><td>i32</td></tr></thead><tbody><tr><td>&quot;0.0-02.net&quot;</td><td>24314</td><td>&quot;net&quot;</td><td>1</td></tr><tr><td>&quot;0.56.web1.im.weibo.com&quot;</td><td>43357</td><td>&quot;com&quot;</td><td>1</td></tr><tr><td>&quot;0.academia-assets.com&quot;</td><td>18340</td><td>&quot;com&quot;</td><td>1</td></tr><tr><td>&quot;0.academia-photos.com&quot;</td><td>32767</td><td>&quot;com&quot;</td><td>1</td></tr><tr><td>&quot;0.api.urban-rivals.com&quot;</td><td>35936</td><td>&quot;com&quot;</td><td>1</td></tr><tr><td>&hellip;</td><td>&hellip;</td><td>&hellip;</td><td>&hellip;</td></tr><tr><td>&quot;zurich.cloudsigma.cedexis.com&quot;</td><td>3994</td><td>&quot;com&quot;</td><td>1</td></tr><tr><td>&quot;zv1ec6njx7.b.ad6media.fr&quot;</td><td>44705</td><td>&quot;fr&quot;</td><td>0</td></tr><tr><td>&quot;zvon.org&quot;</td><td>2498</td><td>&quot;org&quot;</td><td>1</td></tr><tr><td>&quot;zx.findart.com.cn&quot;</td><td>12040</td><td>&quot;cn&quot;</td><td>0</td></tr><tr><td>&quot;zz.csdn.net&quot;</td><td>6122</td><td>&quot;net&quot;</td><td>1</td></tr></tbody></table></div>"
      ],
      "text/plain": [
       "shape: (48_371, 4)\n",
       "┌───────────────────────────────┬───────┬─────┬───────────────┐\n",
       "│ sitename                      ┆ site  ┆ tld ┆ is_common_tld │\n",
       "│ ---                           ┆ ---   ┆ --- ┆ ---           │\n",
       "│ str                           ┆ i64   ┆ str ┆ i32           │\n",
       "╞═══════════════════════════════╪═══════╪═════╪═══════════════╡\n",
       "│ 0.0-02.net                    ┆ 24314 ┆ net ┆ 1             │\n",
       "│ 0.56.web1.im.weibo.com        ┆ 43357 ┆ com ┆ 1             │\n",
       "│ 0.academia-assets.com         ┆ 18340 ┆ com ┆ 1             │\n",
       "│ 0.academia-photos.com         ┆ 32767 ┆ com ┆ 1             │\n",
       "│ 0.api.urban-rivals.com        ┆ 35936 ┆ com ┆ 1             │\n",
       "│ …                             ┆ …     ┆ …   ┆ …             │\n",
       "│ zurich.cloudsigma.cedexis.com ┆ 3994  ┆ com ┆ 1             │\n",
       "│ zv1ec6njx7.b.ad6media.fr      ┆ 44705 ┆ fr  ┆ 0             │\n",
       "│ zvon.org                      ┆ 2498  ┆ org ┆ 1             │\n",
       "│ zx.findart.com.cn             ┆ 12040 ┆ cn  ┆ 0             │\n",
       "│ zz.csdn.net                   ┆ 6122  ┆ net ┆ 1             │\n",
       "└───────────────────────────────┴───────┴─────┴───────────────┘"
      ]
     },
     "execution_count": 61,
     "metadata": {},
     "output_type": "execute_result"
    }
   ],
   "source": [
    "sites = (\n",
    "    sites\n",
    "    # Split after dot. The last item in the list is the TLD\n",
    "    .with_columns(pl.col(\"sitename\").str.split(\".\").list.last().alias(\"tld\"))\n",
    "    # Categorize TLDs\n",
    "    .with_columns(\n",
    "        pl.when(pl.col(\"tld\").is_in([\"com\", \"org\", \"net\"]))\n",
    "        .then(pl.lit(1))\n",
    "        .otherwise(pl.lit(0))\n",
    "        .alias(\"is_common_tld\")\n",
    "    )\n",
    ")\n",
    "\n",
    "sites"
   ]
  },
  {
   "cell_type": "code",
   "execution_count": 62,
   "id": "b27e4850",
   "metadata": {},
   "outputs": [
    {
     "data": {
      "text/plain": [
       "['session_id',\n",
       " 'site1',\n",
       " 'datetime1',\n",
       " 'site2',\n",
       " 'datetime2',\n",
       " 'site3',\n",
       " 'datetime3',\n",
       " 'site4',\n",
       " 'datetime4',\n",
       " 'site5',\n",
       " 'datetime5',\n",
       " 'site6',\n",
       " 'datetime6',\n",
       " 'site7',\n",
       " 'datetime7',\n",
       " 'site8',\n",
       " 'datetime8',\n",
       " 'site9',\n",
       " 'datetime9',\n",
       " 'site10',\n",
       " 'datetime10',\n",
       " 'target_bool',\n",
       " 'target']"
      ]
     },
     "execution_count": 62,
     "metadata": {},
     "output_type": "execute_result"
    }
   ],
   "source": [
    "df.columns"
   ]
  },
  {
   "cell_type": "code",
   "execution_count": 63,
   "id": "caa487e3",
   "metadata": {},
   "outputs": [],
   "source": [
    "# Join is_common_tld to df. First unpivot and thereafter join. Pivot back in the end.\n",
    "def site_mapping(df):\n",
    "    df = (\n",
    "        df.unpivot(\n",
    "            index=df.select(~cs.starts_with(\"site\")).columns,\n",
    "            on=cs.starts_with(\"site\"),\n",
    "            variable_name=\"site_session_id\",\n",
    "            value_name=\"site\",\n",
    "        )\n",
    "        .join(sites.select(\"site\", \"is_common_tld\"), on=[\"site\"], how=\"left\")\n",
    "        .pivot(index=df.select(~cs.starts_with(\"site\")).columns, on=[\"site_session_id\"])\n",
    "        # Get original column names for site\n",
    "        .with_columns(pl.all().name.map(lambda x: x.replace(\"site_\", \"\")))\n",
    "        # Drop duplicate columns\n",
    "        .drop(cs.starts_with(\"site_\"))\n",
    "    )\n",
    "    return df\n",
    "\n",
    "\n",
    "# Run function\n",
    "df = site_mapping(df)"
   ]
  },
  {
   "cell_type": "code",
   "execution_count": 64,
   "id": "7762191c",
   "metadata": {},
   "outputs": [
    {
     "data": {
      "text/plain": [
       "(253561, 33)"
      ]
     },
     "execution_count": 64,
     "metadata": {},
     "output_type": "execute_result"
    }
   ],
   "source": [
    "df.shape"
   ]
  },
  {
   "cell_type": "code",
   "execution_count": 67,
   "id": "466f8a63",
   "metadata": {},
   "outputs": [
    {
     "data": {
      "text/html": [
       "<div><style>\n",
       ".dataframe > thead > tr,\n",
       ".dataframe > tbody > tr {\n",
       "  text-align: right;\n",
       "  white-space: pre-wrap;\n",
       "}\n",
       "</style>\n",
       "<small>shape: (5, 44)</small><table border=\"1\" class=\"dataframe\"><thead><tr><th>session_id</th><th>datetime1</th><th>datetime2</th><th>datetime3</th><th>datetime4</th><th>datetime5</th><th>datetime6</th><th>datetime7</th><th>datetime8</th><th>datetime9</th><th>datetime10</th><th>target_bool</th><th>target</th><th>is_common_tld_site1</th><th>is_common_tld_site2</th><th>is_common_tld_site3</th><th>is_common_tld_site4</th><th>is_common_tld_site5</th><th>is_common_tld_site6</th><th>is_common_tld_site7</th><th>is_common_tld_site8</th><th>is_common_tld_site9</th><th>is_common_tld_site10</th><th>site1</th><th>site2</th><th>site3</th><th>site4</th><th>site5</th><th>site6</th><th>site7</th><th>site8</th><th>site9</th><th>site10</th><th>field_0</th><th>field_1</th><th>field_2</th><th>field_3</th><th>field_4</th><th>field_5</th><th>field_6</th><th>field_7</th><th>field_8</th><th>field_9</th><th>field_10</th></tr><tr><td>i64</td><td>datetime[μs]</td><td>datetime[μs]</td><td>datetime[μs]</td><td>datetime[μs]</td><td>datetime[μs]</td><td>datetime[μs]</td><td>datetime[μs]</td><td>datetime[μs]</td><td>datetime[μs]</td><td>datetime[μs]</td><td>i64</td><td>str</td><td>i32</td><td>i32</td><td>i32</td><td>i32</td><td>i32</td><td>i32</td><td>i32</td><td>i32</td><td>i32</td><td>i32</td><td>i64</td><td>i64</td><td>i64</td><td>i64</td><td>i64</td><td>i64</td><td>i64</td><td>i64</td><td>i64</td><td>i64</td><td>f32</td><td>f32</td><td>f32</td><td>f32</td><td>f32</td><td>f32</td><td>f32</td><td>f32</td><td>f32</td><td>f32</td><td>f32</td></tr></thead><tbody><tr><td>253557</td><td>2013-11-25 10:26:54</td><td>2013-11-25 10:26:58</td><td>2013-11-25 10:27:03</td><td>2013-11-25 10:27:04</td><td>2013-11-25 10:27:13</td><td>2013-11-25 10:27:16</td><td>2013-11-25 10:27:28</td><td>2013-11-25 10:27:40</td><td>2013-11-25 10:27:52</td><td>2013-11-25 10:27:53</td><td>0</td><td>&quot;Somebody else&quot;</td><td>1</td><td>1</td><td>1</td><td>0</td><td>1</td><td>0</td><td>0</td><td>0</td><td>0</td><td>0</td><td>3474</td><td>3474</td><td>141</td><td>2428</td><td>106</td><td>2428</td><td>2428</td><td>2428</td><td>2428</td><td>148</td><td>-3.12474</td><td>0.594307</td><td>-0.526233</td><td>1.219321</td><td>-2.404561</td><td>0.475142</td><td>-1.222825</td><td>-2.535281</td><td>1.100885</td><td>-4.073804</td><td>-3.629832</td></tr><tr><td>253558</td><td>2013-03-12 16:01:15</td><td>2013-03-12 16:01:16</td><td>2013-03-12 16:01:16</td><td>2013-03-12 16:01:17</td><td>2013-03-12 16:01:17</td><td>2013-03-12 16:01:17</td><td>2013-03-12 16:01:18</td><td>2013-03-12 16:01:18</td><td>2013-03-12 16:01:18</td><td>2013-03-12 16:01:18</td><td>0</td><td>&quot;Somebody else&quot;</td><td>0</td><td>0</td><td>1</td><td>1</td><td>1</td><td>1</td><td>1</td><td>1</td><td>1</td><td>0</td><td>12727</td><td>12727</td><td>2215</td><td>38</td><td>2215</td><td>23</td><td>25444</td><td>2215</td><td>23</td><td>21</td><td>-1.386287</td><td>0.484686</td><td>0.090434</td><td>0.517604</td><td>0.40157</td><td>1.13119</td><td>0.854204</td><td>0.493521</td><td>-0.701147</td><td>-0.641396</td><td>-1.599694</td></tr><tr><td>253559</td><td>2013-09-12 14:05:03</td><td>2013-09-12 14:05:10</td><td>2013-09-12 14:05:10</td><td>2013-09-12 14:06:29</td><td>2013-09-12 14:06:30</td><td>null</td><td>null</td><td>null</td><td>null</td><td>null</td><td>0</td><td>&quot;Somebody else&quot;</td><td>1</td><td>0</td><td>0</td><td>0</td><td>0</td><td>null</td><td>null</td><td>null</td><td>null</td><td>null</td><td>2661</td><td>15004</td><td>5562</td><td>5562</td><td>5562</td><td>null</td><td>null</td><td>null</td><td>null</td><td>null</td><td>-0.444253</td><td>1.556391</td><td>0.616049</td><td>1.793286</td><td>-0.628701</td><td>0.857047</td><td>-0.973232</td><td>1.545825</td><td>-0.890789</td><td>-2.809582</td><td>-1.052273</td></tr><tr><td>253560</td><td>2013-12-19 15:20:22</td><td>2013-12-19 15:20:22</td><td>2013-12-19 15:20:22</td><td>2013-12-19 15:20:22</td><td>2013-12-19 15:20:22</td><td>2013-12-19 15:20:23</td><td>2013-12-19 15:20:23</td><td>2013-12-19 15:20:23</td><td>2013-12-19 15:20:24</td><td>2013-12-19 15:20:24</td><td>0</td><td>&quot;Somebody else&quot;</td><td>1</td><td>1</td><td>1</td><td>1</td><td>1</td><td>1</td><td>1</td><td>1</td><td>1</td><td>1</td><td>812</td><td>676</td><td>814</td><td>22</td><td>39</td><td>812</td><td>814</td><td>570</td><td>22</td><td>570</td><td>-3.127048</td><td>-0.535522</td><td>-1.178704</td><td>-0.599046</td><td>-2.358794</td><td>0.361103</td><td>-0.640126</td><td>2.202076</td><td>-0.950471</td><td>-4.164101</td><td>-0.64298</td></tr><tr><td>253561</td><td>2014-04-25 09:56:52</td><td>2014-04-25 09:56:53</td><td>2014-04-25 09:56:53</td><td>2014-04-25 09:56:54</td><td>2014-04-25 09:56:54</td><td>2014-04-25 09:56:54</td><td>2014-04-25 09:56:54</td><td>2014-04-25 09:56:55</td><td>2014-04-25 09:56:55</td><td>2014-04-25 09:56:55</td><td>0</td><td>&quot;Somebody else&quot;</td><td>1</td><td>0</td><td>1</td><td>1</td><td>1</td><td>1</td><td>1</td><td>1</td><td>1</td><td>1</td><td>34942</td><td>1429</td><td>34942</td><td>29</td><td>30</td><td>34942</td><td>5779</td><td>30</td><td>35</td><td>33</td><td>-1.141031</td><td>-1.022345</td><td>-0.233542</td><td>-0.494624</td><td>0.002813</td><td>1.496069</td><td>0.409772</td><td>0.040373</td><td>1.84265</td><td>-1.732289</td><td>-1.001869</td></tr></tbody></table></div>"
      ],
      "text/plain": [
       "shape: (5, 44)\n",
       "┌───────────┬───────────┬───────────┬───────────┬───┬───────────┬───────────┬───────────┬──────────┐\n",
       "│ session_i ┆ datetime1 ┆ datetime2 ┆ datetime3 ┆ … ┆ field_7   ┆ field_8   ┆ field_9   ┆ field_10 │\n",
       "│ d         ┆ ---       ┆ ---       ┆ ---       ┆   ┆ ---       ┆ ---       ┆ ---       ┆ ---      │\n",
       "│ ---       ┆ datetime[ ┆ datetime[ ┆ datetime[ ┆   ┆ f32       ┆ f32       ┆ f32       ┆ f32      │\n",
       "│ i64       ┆ μs]       ┆ μs]       ┆ μs]       ┆   ┆           ┆           ┆           ┆          │\n",
       "╞═══════════╪═══════════╪═══════════╪═══════════╪═══╪═══════════╪═══════════╪═══════════╪══════════╡\n",
       "│ 253557    ┆ 2013-11-2 ┆ 2013-11-2 ┆ 2013-11-2 ┆ … ┆ -2.535281 ┆ 1.100885  ┆ -4.073804 ┆ -3.62983 │\n",
       "│           ┆ 5         ┆ 5         ┆ 5         ┆   ┆           ┆           ┆           ┆ 2        │\n",
       "│           ┆ 10:26:54  ┆ 10:26:58  ┆ 10:27:03  ┆   ┆           ┆           ┆           ┆          │\n",
       "│ 253558    ┆ 2013-03-1 ┆ 2013-03-1 ┆ 2013-03-1 ┆ … ┆ 0.493521  ┆ -0.701147 ┆ -0.641396 ┆ -1.59969 │\n",
       "│           ┆ 2         ┆ 2         ┆ 2         ┆   ┆           ┆           ┆           ┆ 4        │\n",
       "│           ┆ 16:01:15  ┆ 16:01:16  ┆ 16:01:16  ┆   ┆           ┆           ┆           ┆          │\n",
       "│ 253559    ┆ 2013-09-1 ┆ 2013-09-1 ┆ 2013-09-1 ┆ … ┆ 1.545825  ┆ -0.890789 ┆ -2.809582 ┆ -1.05227 │\n",
       "│           ┆ 2         ┆ 2         ┆ 2         ┆   ┆           ┆           ┆           ┆ 3        │\n",
       "│           ┆ 14:05:03  ┆ 14:05:10  ┆ 14:05:10  ┆   ┆           ┆           ┆           ┆          │\n",
       "│ 253560    ┆ 2013-12-1 ┆ 2013-12-1 ┆ 2013-12-1 ┆ … ┆ 2.202076  ┆ -0.950471 ┆ -4.164101 ┆ -0.64298 │\n",
       "│           ┆ 9         ┆ 9         ┆ 9         ┆   ┆           ┆           ┆           ┆          │\n",
       "│           ┆ 15:20:22  ┆ 15:20:22  ┆ 15:20:22  ┆   ┆           ┆           ┆           ┆          │\n",
       "│ 253561    ┆ 2014-04-2 ┆ 2014-04-2 ┆ 2014-04-2 ┆ … ┆ 0.040373  ┆ 1.84265   ┆ -1.732289 ┆ -1.00186 │\n",
       "│           ┆ 5         ┆ 5         ┆ 5         ┆   ┆           ┆           ┆           ┆ 9        │\n",
       "│           ┆ 09:56:52  ┆ 09:56:53  ┆ 09:56:53  ┆   ┆           ┆           ┆           ┆          │\n",
       "└───────────┴───────────┴───────────┴───────────┴───┴───────────┴───────────┴───────────┴──────────┘"
      ]
     },
     "execution_count": 67,
     "metadata": {},
     "output_type": "execute_result"
    }
   ],
   "source": [
    "df.tail()"
   ]
  },
  {
   "cell_type": "markdown",
   "id": "d2066a8b",
   "metadata": {},
   "source": [
    "Check how many weeks, days, months there are in a whole session. If there are only 1, booleans of months and weeks can be created from datetime1. Accoring to the calculation in the next cell we see that there are only 2 unique weeks and 2 unique month in the session. So we can create a boolean column for each of them from datetime1.\n"
   ]
  },
  {
   "cell_type": "code",
   "execution_count": 11,
   "id": "4ce7b072",
   "metadata": {},
   "outputs": [
    {
     "data": {
      "text/html": [
       "<div><style>\n",
       ".dataframe > thead > tr,\n",
       ".dataframe > tbody > tr {\n",
       "  text-align: right;\n",
       "  white-space: pre-wrap;\n",
       "}\n",
       "</style>\n",
       "<small>shape: (1, 3)</small><table border=\"1\" class=\"dataframe\"><thead><tr><th>num_months</th><th>num_week</th><th>num_day</th></tr><tr><td>u32</td><td>u32</td><td>u32</td></tr></thead><tbody><tr><td>2</td><td>2</td><td>2</td></tr></tbody></table></div>"
      ],
      "text/plain": [
       "shape: (1, 3)\n",
       "┌────────────┬──────────┬─────────┐\n",
       "│ num_months ┆ num_week ┆ num_day │\n",
       "│ ---        ┆ ---      ┆ ---     │\n",
       "│ u32        ┆ u32      ┆ u32     │\n",
       "╞════════════╪══════════╪═════════╡\n",
       "│ 2          ┆ 2        ┆ 2       │\n",
       "└────────────┴──────────┴─────────┘"
      ]
     },
     "execution_count": 11,
     "metadata": {},
     "output_type": "execute_result"
    }
   ],
   "source": [
    "(\n",
    "    df.select(\"session_id\", cs.contains(\"datetime\"))\n",
    "    .unpivot(index=\"session_id\", on=cs.contains(\"datetime\"))\n",
    "    .with_columns(\n",
    "        pl.col(\"value\").dt.month().alias(\"month\"),\n",
    "        pl.col(\"value\").dt.week().alias(\"week\"),\n",
    "        pl.col(\"value\").dt.day().alias(\"day\"),\n",
    "    )\n",
    "    .group_by(\"session_id\")\n",
    "    .agg(\n",
    "        pl.col(\"month\").n_unique().alias(\"num_months\"),\n",
    "        pl.col(\"week\").n_unique().alias(\"num_week\"),\n",
    "        pl.col(\"day\").n_unique().alias(\"num_day\"),\n",
    "    )\n",
    "    .select(\n",
    "        pl.col(\"num_months\").max(), pl.col(\"num_week\").max(), pl.col(\"num_day\").max()\n",
    "    )\n",
    ")"
   ]
  },
  {
   "cell_type": "code",
   "execution_count": 68,
   "id": "c7d851cc",
   "metadata": {},
   "outputs": [],
   "source": [
    "df = (\n",
    "    df.pipe(diff_time)\n",
    "    .pipe(total_duration)\n",
    "    .pipe(num_sites)\n",
    "    .pipe(time_of_day)\n",
    "    .pipe(months)\n",
    "    .pipe(weeks)\n",
    "    .pipe(days)\n",
    "    .pipe(is_workday)\n",
    ")"
   ]
  },
  {
   "cell_type": "markdown",
   "id": "b0811126",
   "metadata": {},
   "source": [
    "Distribution of number of unique sites visited per session id seems almost the same"
   ]
  },
  {
   "cell_type": "code",
   "execution_count": 15,
   "id": "92067535",
   "metadata": {},
   "outputs": [
    {
     "name": "stderr",
     "output_type": "stream",
     "text": [
      "c:\\Users\\Yafee Ishraq\\AppData\\Local\\Programs\\Python\\Python311\\Lib\\site-packages\\matplotlib\\projections\\__init__.py:63: UserWarning: Unable to import Axes3D. This may be due to multiple versions of Matplotlib being installed (e.g. as a system package and as a pip package). As a result, the 3D projection is not available.\n"
     ]
    },
    {
     "data": {
      "image/png": "[encoded data removed]"
     },
     "metadata": {
      "image/png": {
       "height": 480,
       "width": 640
      }
     },
     "output_type": "display_data"
    }
   ],
   "source": [
    "(\n",
    "    ggplot(data=df, mapping=aes(x=\"num_sites\"))\n",
    "    + geom_histogram(bins=10)\n",
    "    + scale_x_continuous(breaks=range(df[\"num_sites\"].min(), df[\"num_sites\"].max() + 1))\n",
    "    + facet_wrap(\"target\", scales=\"free_y\")\n",
    "    + labs(x=\"\", y=\"Count\", title=\"Number of unique sites visited\")\n",
    "    + theme()\n",
    ")"
   ]
  },
  {
   "cell_type": "code",
   "execution_count": 16,
   "id": "4354b302",
   "metadata": {},
   "outputs": [
    {
     "data": {
      "text/html": [
       "<div><style>\n",
       ".dataframe > thead > tr,\n",
       ".dataframe > tbody > tr {\n",
       "  text-align: right;\n",
       "  white-space: pre-wrap;\n",
       "}\n",
       "</style>\n",
       "<small>shape: (2, 3)</small><table border=\"1\" class=\"dataframe\"><thead><tr><th>target</th><th>mean_num_sites</th><th>median_num_sites</th></tr><tr><td>str</td><td>f64</td><td>f64</td></tr></thead><tbody><tr><td>&quot;Somebody else&quot;</td><td>5.634086</td><td>6.0</td></tr><tr><td>&quot;Alice&quot;</td><td>6.109273</td><td>6.0</td></tr></tbody></table></div>"
      ],
      "text/plain": [
       "shape: (2, 3)\n",
       "┌───────────────┬────────────────┬──────────────────┐\n",
       "│ target        ┆ mean_num_sites ┆ median_num_sites │\n",
       "│ ---           ┆ ---            ┆ ---              │\n",
       "│ str           ┆ f64            ┆ f64              │\n",
       "╞═══════════════╪════════════════╪══════════════════╡\n",
       "│ Somebody else ┆ 5.634086       ┆ 6.0              │\n",
       "│ Alice         ┆ 6.109273       ┆ 6.0              │\n",
       "└───────────────┴────────────────┴──────────────────┘"
      ]
     },
     "execution_count": 16,
     "metadata": {},
     "output_type": "execute_result"
    }
   ],
   "source": [
    "(\n",
    "    df.group_by(\"target\").agg(\n",
    "        pl.col(\"num_sites\").mean().alias(\"mean_num_sites\"),\n",
    "        pl.col(\"num_sites\").median().alias(\"median_num_sites\"),\n",
    "    )\n",
    ")"
   ]
  },
  {
   "cell_type": "code",
   "execution_count": 17,
   "id": "313f2013",
   "metadata": {},
   "outputs": [
    {
     "data": {
      "text/html": [
       "<div><style>\n",
       ".dataframe > thead > tr,\n",
       ".dataframe > tbody > tr {\n",
       "  text-align: right;\n",
       "  white-space: pre-wrap;\n",
       "}\n",
       "</style>\n",
       "<small>shape: (2_274, 3)</small><table border=\"1\" class=\"dataframe\"><thead><tr><th>all_sites</th><th>target</th><th>num_sites</th></tr><tr><td>list[i64]</td><td>str</td><td>u32</td></tr></thead><tbody><tr><td>[270, 32, … 29]</td><td>&quot;Alice&quot;</td><td>1</td></tr><tr><td>[80, 27296, … 27296]</td><td>&quot;Alice&quot;</td><td>1</td></tr><tr><td>[942, 3876, … 941]</td><td>&quot;Alice&quot;</td><td>1</td></tr><tr><td>[704, 33, … 3000]</td><td>&quot;Alice&quot;</td><td>1</td></tr><tr><td>[855, 1520, … 1515]</td><td>&quot;Alice&quot;</td><td>1</td></tr><tr><td>&hellip;</td><td>&hellip;</td><td>&hellip;</td></tr><tr><td>[229, 21, … 21]</td><td>&quot;Alice&quot;</td><td>2</td></tr><tr><td>[80, 81, … 81]</td><td>&quot;Alice&quot;</td><td>2</td></tr><tr><td>[80, 80, … 80]</td><td>&quot;Alice&quot;</td><td>4</td></tr><tr><td>[265, 265, … 265]</td><td>&quot;Alice&quot;</td><td>7</td></tr><tr><td>[733, 733, … 733]</td><td>&quot;Alice&quot;</td><td>12</td></tr></tbody></table></div>"
      ],
      "text/plain": [
       "shape: (2_274, 3)\n",
       "┌──────────────────────┬────────┬───────────┐\n",
       "│ all_sites            ┆ target ┆ num_sites │\n",
       "│ ---                  ┆ ---    ┆ ---       │\n",
       "│ list[i64]            ┆ str    ┆ u32       │\n",
       "╞══════════════════════╪════════╪═══════════╡\n",
       "│ [270, 32, … 29]      ┆ Alice  ┆ 1         │\n",
       "│ [80, 27296, … 27296] ┆ Alice  ┆ 1         │\n",
       "│ [942, 3876, … 941]   ┆ Alice  ┆ 1         │\n",
       "│ [704, 33, … 3000]    ┆ Alice  ┆ 1         │\n",
       "│ [855, 1520, … 1515]  ┆ Alice  ┆ 1         │\n",
       "│ …                    ┆ …      ┆ …         │\n",
       "│ [229, 21, … 21]      ┆ Alice  ┆ 2         │\n",
       "│ [80, 81, … 81]       ┆ Alice  ┆ 2         │\n",
       "│ [80, 80, … 80]       ┆ Alice  ┆ 4         │\n",
       "│ [265, 265, … 265]    ┆ Alice  ┆ 7         │\n",
       "│ [733, 733, … 733]    ┆ Alice  ┆ 12        │\n",
       "└──────────────────────┴────────┴───────────┘"
      ]
     },
     "execution_count": 17,
     "metadata": {},
     "output_type": "execute_result"
    }
   ],
   "source": [
    "(\n",
    "    df.filter(pl.col(\"target\") == \"Alice\")\n",
    "    .group_by(\"all_sites\", \"target\")\n",
    "    .agg(pl.len().alias(\"num_sites\"))\n",
    "    .sort(by=\"num_sites\")\n",
    ")"
   ]
  },
  {
   "cell_type": "code",
   "execution_count": null,
   "id": "abe939e0",
   "metadata": {},
   "outputs": [],
   "source": [
    "df.group_by(\"session_id\").agg(pl.col(\"\"))"
   ]
  },
  {
   "cell_type": "markdown",
   "id": "40b3e141",
   "metadata": {},
   "source": [
    "## Create ML model"
   ]
  },
  {
   "cell_type": "code",
   "execution_count": 70,
   "id": "49308a02",
   "metadata": {},
   "outputs": [],
   "source": [
    "features = df.select(\n",
    "    cs.contains(\"week_\"),\n",
    "    cs.contains(\"diff_time_\"),\n",
    "    cs.contains(\"time_of_day\"),\n",
    "    cs.contains(\"month_\"),\n",
    "    cs.contains('field'),\n",
    "    # cs.contains('weekday_'),\n",
    "    # cs.starts_with('is_common_tld'),\n",
    "    \"is_workday\",\n",
    "    \"total_duration\",\n",
    "    \"num_sites\",\n",
    ").columns\n",
    "\n",
    "X = df.select(*features)\n",
    "y = df.select(\"target_bool\")\n",
    "\n",
    "X_train, X_test, y_train, y_test = train_test_split(\n",
    "    X, y, test_size=0.20, random_state=42\n",
    ")"
   ]
  },
  {
   "cell_type": "markdown",
   "id": "3fa2ebfe",
   "metadata": {},
   "source": [
    "Run grid search"
   ]
  },
  {
   "cell_type": "markdown",
   "id": "d3bc8d02",
   "metadata": {},
   "source": [
    "# Predict the test set"
   ]
  },
  {
   "cell_type": "code",
   "execution_count": null,
   "id": "da111d93",
   "metadata": {},
   "outputs": [],
   "source": [
    "test_set = pl.read_csv(\"test_sessions.csv\")\n",
    "\n",
    "test_set = (\n",
    "    test_set.pipe(transform_to_datetime)\n",
    "    .pipe(diff_time)\n",
    "    .pipe(total_duration)\n",
    "    .pipe(num_sites)\n",
    "    .pipe(time_of_day)\n",
    "    .pipe(months)\n",
    "    .pipe(weeks)\n",
    "    .pipe(days)\n",
    "    .pipe(is_workday)\n",
    "    # .pipe(site_mapping)\n",
    ")\n",
    "\n",
    "\n",
    "# Select features\n",
    "X_test_set = test_set.select(*features)"
   ]
  },
  {
   "cell_type": "markdown",
   "id": "6a90daa3",
   "metadata": {},
   "source": [
    "## Create model"
   ]
  },
  {
   "cell_type": "code",
   "execution_count": 74,
   "id": "b7b5a84f",
   "metadata": {},
   "outputs": [
    {
     "name": "stdout",
     "output_type": "stream",
     "text": [
      "Fitting 3 folds for each of 16 candidates, totalling 48 fits\n"
     ]
    }
   ],
   "source": [
    "# xgoost_model   = model_pipeline(X_train,y_train,'xgboost')\n",
    "catboost_model = model_pipeline(X_train, y_train, \"catboost\")"
   ]
  },
  {
   "cell_type": "markdown",
   "id": "b504a279",
   "metadata": {},
   "source": [
    "Run predictions"
   ]
  },
  {
   "cell_type": "code",
   "execution_count": 81,
   "id": "84a0357b",
   "metadata": {},
   "outputs": [],
   "source": [
    "test_set_predictions = catboost_model.predict_proba(X_test_set.to_pandas())[:, 1]\n",
    "test_set_predictions = pl.from_numpy(test_set_predictions).rename(\n",
    "    {\"column_0\": \"target\"}\n",
    ")\n",
    "test_set_predictions = pl.concat(\n",
    "    [test_set.select(\"session_id\"), test_set_predictions], how=\"horizontal\"\n",
    ")\n",
    "test_set_predictions.write_csv(\"test_set_predictions.csv\")"
   ]
  },
  {
   "cell_type": "code",
   "execution_count": 78,
   "id": "e419a3fa",
   "metadata": {},
   "outputs": [
    {
     "data": {
      "text/html": [
       "<div><style>\n",
       ".dataframe > thead > tr,\n",
       ".dataframe > tbody > tr {\n",
       "  text-align: right;\n",
       "  white-space: pre-wrap;\n",
       "}\n",
       "</style>\n",
       "<small>shape: (82_797, 116)</small><table border=\"1\" class=\"dataframe\"><thead><tr><th>week_1</th><th>week_2</th><th>week_3</th><th>week_4</th><th>week_5</th><th>week_6</th><th>week_7</th><th>week_8</th><th>week_9</th><th>week_10</th><th>week_11</th><th>week_12</th><th>week_13</th><th>week_14</th><th>week_15</th><th>week_16</th><th>week_17</th><th>week_18</th><th>week_19</th><th>week_20</th><th>week_21</th><th>week_22</th><th>week_23</th><th>week_24</th><th>week_25</th><th>week_26</th><th>week_27</th><th>week_28</th><th>week_29</th><th>week_30</th><th>week_31</th><th>week_32</th><th>week_33</th><th>week_34</th><th>week_35</th><th>week_36</th><th>week_37</th><th>&hellip;</th><th>time_of_day_datetime5_afternoon</th><th>time_of_day_datetime5_evening</th><th>time_of_day_datetime6_night</th><th>time_of_day_datetime6_morning</th><th>time_of_day_datetime6_afternoon</th><th>time_of_day_datetime6_evening</th><th>time_of_day_datetime7_night</th><th>time_of_day_datetime7_morning</th><th>time_of_day_datetime7_afternoon</th><th>time_of_day_datetime7_evening</th><th>time_of_day_datetime8_night</th><th>time_of_day_datetime8_morning</th><th>time_of_day_datetime8_afternoon</th><th>time_of_day_datetime8_evening</th><th>time_of_day_datetime9_night</th><th>time_of_day_datetime9_morning</th><th>time_of_day_datetime9_afternoon</th><th>time_of_day_datetime9_evening</th><th>time_of_day_datetime10_night</th><th>time_of_day_datetime10_morning</th><th>time_of_day_datetime10_afternoon</th><th>time_of_day_datetime10_evening</th><th>month_january</th><th>month_february</th><th>month_march</th><th>month_april</th><th>month_may</th><th>month_june</th><th>month_july</th><th>month_august</th><th>month_september</th><th>month_october</th><th>month_november</th><th>month_december</th><th>is_workday</th><th>total_duration</th><th>num_sites</th></tr><tr><td>i8</td><td>i8</td><td>i8</td><td>i8</td><td>i8</td><td>i8</td><td>i8</td><td>i8</td><td>i8</td><td>i8</td><td>i8</td><td>i8</td><td>i8</td><td>i8</td><td>i8</td><td>i8</td><td>i8</td><td>i8</td><td>i8</td><td>i8</td><td>i8</td><td>i8</td><td>i8</td><td>i8</td><td>i8</td><td>i8</td><td>i8</td><td>i8</td><td>i8</td><td>i8</td><td>i8</td><td>i8</td><td>i8</td><td>i8</td><td>i8</td><td>i8</td><td>i8</td><td>&hellip;</td><td>i8</td><td>i8</td><td>i8</td><td>i8</td><td>i8</td><td>i8</td><td>i8</td><td>i8</td><td>i8</td><td>i8</td><td>i8</td><td>i8</td><td>i8</td><td>i8</td><td>i8</td><td>i8</td><td>i8</td><td>i8</td><td>i8</td><td>i8</td><td>i8</td><td>i8</td><td>i8</td><td>i8</td><td>i8</td><td>i8</td><td>i8</td><td>i8</td><td>i8</td><td>i8</td><td>i8</td><td>i8</td><td>i8</td><td>i8</td><td>i64</td><td>i64</td><td>u32</td></tr></thead><tbody><tr><td>0</td><td>0</td><td>0</td><td>0</td><td>0</td><td>0</td><td>0</td><td>0</td><td>0</td><td>0</td><td>0</td><td>0</td><td>0</td><td>0</td><td>0</td><td>0</td><td>0</td><td>0</td><td>0</td><td>0</td><td>0</td><td>0</td><td>0</td><td>0</td><td>0</td><td>0</td><td>0</td><td>0</td><td>0</td><td>0</td><td>0</td><td>0</td><td>0</td><td>0</td><td>0</td><td>0</td><td>0</td><td>&hellip;</td><td>0</td><td>0</td><td>0</td><td>1</td><td>0</td><td>0</td><td>0</td><td>1</td><td>0</td><td>0</td><td>0</td><td>1</td><td>0</td><td>0</td><td>0</td><td>1</td><td>0</td><td>0</td><td>0</td><td>1</td><td>0</td><td>0</td><td>0</td><td>0</td><td>0</td><td>0</td><td>0</td><td>0</td><td>0</td><td>0</td><td>0</td><td>1</td><td>0</td><td>0</td><td>0</td><td>7</td><td>10</td></tr><tr><td>0</td><td>0</td><td>0</td><td>0</td><td>0</td><td>0</td><td>0</td><td>0</td><td>0</td><td>0</td><td>0</td><td>0</td><td>0</td><td>0</td><td>0</td><td>0</td><td>0</td><td>0</td><td>0</td><td>0</td><td>0</td><td>0</td><td>0</td><td>0</td><td>0</td><td>0</td><td>1</td><td>0</td><td>0</td><td>0</td><td>0</td><td>0</td><td>0</td><td>0</td><td>0</td><td>0</td><td>0</td><td>&hellip;</td><td>0</td><td>0</td><td>0</td><td>1</td><td>0</td><td>0</td><td>0</td><td>1</td><td>0</td><td>0</td><td>0</td><td>1</td><td>0</td><td>0</td><td>0</td><td>1</td><td>0</td><td>0</td><td>0</td><td>1</td><td>0</td><td>0</td><td>0</td><td>0</td><td>0</td><td>0</td><td>0</td><td>0</td><td>1</td><td>0</td><td>0</td><td>0</td><td>0</td><td>0</td><td>1</td><td>85</td><td>1</td></tr><tr><td>0</td><td>0</td><td>0</td><td>0</td><td>0</td><td>0</td><td>0</td><td>0</td><td>0</td><td>0</td><td>0</td><td>0</td><td>0</td><td>0</td><td>0</td><td>0</td><td>0</td><td>0</td><td>0</td><td>0</td><td>0</td><td>0</td><td>0</td><td>0</td><td>0</td><td>0</td><td>0</td><td>0</td><td>0</td><td>0</td><td>0</td><td>0</td><td>0</td><td>0</td><td>0</td><td>0</td><td>0</td><td>&hellip;</td><td>1</td><td>0</td><td>0</td><td>0</td><td>1</td><td>0</td><td>0</td><td>0</td><td>1</td><td>0</td><td>0</td><td>0</td><td>1</td><td>0</td><td>0</td><td>0</td><td>1</td><td>0</td><td>0</td><td>0</td><td>1</td><td>0</td><td>0</td><td>0</td><td>0</td><td>0</td><td>0</td><td>0</td><td>0</td><td>0</td><td>0</td><td>0</td><td>0</td><td>1</td><td>1</td><td>84</td><td>2</td></tr><tr><td>0</td><td>0</td><td>0</td><td>0</td><td>0</td><td>0</td><td>0</td><td>0</td><td>0</td><td>0</td><td>0</td><td>0</td><td>0</td><td>0</td><td>0</td><td>0</td><td>0</td><td>0</td><td>0</td><td>0</td><td>0</td><td>0</td><td>0</td><td>0</td><td>0</td><td>0</td><td>0</td><td>0</td><td>0</td><td>0</td><td>0</td><td>0</td><td>0</td><td>0</td><td>0</td><td>0</td><td>0</td><td>&hellip;</td><td>0</td><td>0</td><td>0</td><td>1</td><td>0</td><td>0</td><td>0</td><td>1</td><td>0</td><td>0</td><td>0</td><td>1</td><td>0</td><td>0</td><td>0</td><td>1</td><td>0</td><td>0</td><td>0</td><td>1</td><td>0</td><td>0</td><td>0</td><td>0</td><td>0</td><td>0</td><td>0</td><td>0</td><td>0</td><td>0</td><td>0</td><td>0</td><td>1</td><td>0</td><td>1</td><td>4</td><td>7</td></tr><tr><td>0</td><td>0</td><td>0</td><td>0</td><td>0</td><td>0</td><td>0</td><td>0</td><td>0</td><td>0</td><td>0</td><td>0</td><td>0</td><td>0</td><td>0</td><td>0</td><td>0</td><td>0</td><td>0</td><td>1</td><td>0</td><td>0</td><td>0</td><td>0</td><td>0</td><td>0</td><td>0</td><td>0</td><td>0</td><td>0</td><td>0</td><td>0</td><td>0</td><td>0</td><td>0</td><td>0</td><td>0</td><td>&hellip;</td><td>1</td><td>0</td><td>0</td><td>0</td><td>1</td><td>0</td><td>0</td><td>0</td><td>1</td><td>0</td><td>0</td><td>0</td><td>1</td><td>0</td><td>0</td><td>0</td><td>1</td><td>0</td><td>0</td><td>0</td><td>1</td><td>0</td><td>0</td><td>0</td><td>0</td><td>0</td><td>1</td><td>0</td><td>0</td><td>0</td><td>0</td><td>0</td><td>0</td><td>0</td><td>1</td><td>13</td><td>8</td></tr><tr><td>&hellip;</td><td>&hellip;</td><td>&hellip;</td><td>&hellip;</td><td>&hellip;</td><td>&hellip;</td><td>&hellip;</td><td>&hellip;</td><td>&hellip;</td><td>&hellip;</td><td>&hellip;</td><td>&hellip;</td><td>&hellip;</td><td>&hellip;</td><td>&hellip;</td><td>&hellip;</td><td>&hellip;</td><td>&hellip;</td><td>&hellip;</td><td>&hellip;</td><td>&hellip;</td><td>&hellip;</td><td>&hellip;</td><td>&hellip;</td><td>&hellip;</td><td>&hellip;</td><td>&hellip;</td><td>&hellip;</td><td>&hellip;</td><td>&hellip;</td><td>&hellip;</td><td>&hellip;</td><td>&hellip;</td><td>&hellip;</td><td>&hellip;</td><td>&hellip;</td><td>&hellip;</td><td>&hellip;</td><td>&hellip;</td><td>&hellip;</td><td>&hellip;</td><td>&hellip;</td><td>&hellip;</td><td>&hellip;</td><td>&hellip;</td><td>&hellip;</td><td>&hellip;</td><td>&hellip;</td><td>&hellip;</td><td>&hellip;</td><td>&hellip;</td><td>&hellip;</td><td>&hellip;</td><td>&hellip;</td><td>&hellip;</td><td>&hellip;</td><td>&hellip;</td><td>&hellip;</td><td>&hellip;</td><td>&hellip;</td><td>&hellip;</td><td>&hellip;</td><td>&hellip;</td><td>&hellip;</td><td>&hellip;</td><td>&hellip;</td><td>&hellip;</td><td>&hellip;</td><td>&hellip;</td><td>&hellip;</td><td>&hellip;</td><td>&hellip;</td><td>&hellip;</td><td>&hellip;</td><td>&hellip;</td></tr><tr><td>0</td><td>0</td><td>0</td><td>0</td><td>0</td><td>0</td><td>0</td><td>0</td><td>0</td><td>0</td><td>0</td><td>0</td><td>0</td><td>0</td><td>0</td><td>0</td><td>0</td><td>0</td><td>0</td><td>0</td><td>0</td><td>0</td><td>0</td><td>0</td><td>0</td><td>0</td><td>0</td><td>0</td><td>0</td><td>0</td><td>0</td><td>0</td><td>0</td><td>0</td><td>0</td><td>0</td><td>0</td><td>&hellip;</td><td>null</td><td>null</td><td>null</td><td>null</td><td>null</td><td>null</td><td>null</td><td>null</td><td>null</td><td>null</td><td>null</td><td>null</td><td>null</td><td>null</td><td>null</td><td>null</td><td>null</td><td>null</td><td>null</td><td>null</td><td>null</td><td>null</td><td>0</td><td>0</td><td>0</td><td>0</td><td>0</td><td>0</td><td>0</td><td>0</td><td>0</td><td>1</td><td>0</td><td>0</td><td>1</td><td>null</td><td>3</td></tr><tr><td>0</td><td>0</td><td>0</td><td>0</td><td>0</td><td>0</td><td>0</td><td>0</td><td>0</td><td>0</td><td>0</td><td>0</td><td>0</td><td>0</td><td>0</td><td>0</td><td>0</td><td>0</td><td>0</td><td>0</td><td>0</td><td>1</td><td>0</td><td>0</td><td>0</td><td>0</td><td>0</td><td>0</td><td>0</td><td>0</td><td>0</td><td>0</td><td>0</td><td>0</td><td>0</td><td>0</td><td>0</td><td>&hellip;</td><td>1</td><td>0</td><td>0</td><td>0</td><td>1</td><td>0</td><td>0</td><td>0</td><td>1</td><td>0</td><td>0</td><td>0</td><td>1</td><td>0</td><td>0</td><td>0</td><td>1</td><td>0</td><td>0</td><td>0</td><td>1</td><td>0</td><td>0</td><td>0</td><td>0</td><td>0</td><td>1</td><td>0</td><td>0</td><td>0</td><td>0</td><td>0</td><td>0</td><td>0</td><td>1</td><td>39</td><td>6</td></tr><tr><td>0</td><td>0</td><td>0</td><td>0</td><td>0</td><td>0</td><td>0</td><td>0</td><td>0</td><td>0</td><td>0</td><td>0</td><td>0</td><td>0</td><td>0</td><td>0</td><td>0</td><td>1</td><td>0</td><td>0</td><td>0</td><td>0</td><td>0</td><td>0</td><td>0</td><td>0</td><td>0</td><td>0</td><td>0</td><td>0</td><td>0</td><td>0</td><td>0</td><td>0</td><td>0</td><td>0</td><td>0</td><td>&hellip;</td><td>0</td><td>0</td><td>0</td><td>1</td><td>0</td><td>0</td><td>0</td><td>1</td><td>0</td><td>0</td><td>0</td><td>1</td><td>0</td><td>0</td><td>0</td><td>1</td><td>0</td><td>0</td><td>0</td><td>1</td><td>0</td><td>0</td><td>0</td><td>0</td><td>0</td><td>0</td><td>1</td><td>0</td><td>0</td><td>0</td><td>0</td><td>0</td><td>0</td><td>0</td><td>1</td><td>8</td><td>10</td></tr><tr><td>0</td><td>0</td><td>0</td><td>0</td><td>0</td><td>0</td><td>0</td><td>0</td><td>0</td><td>0</td><td>0</td><td>0</td><td>0</td><td>0</td><td>0</td><td>0</td><td>0</td><td>1</td><td>0</td><td>0</td><td>0</td><td>0</td><td>0</td><td>0</td><td>0</td><td>0</td><td>0</td><td>0</td><td>0</td><td>0</td><td>0</td><td>0</td><td>0</td><td>0</td><td>0</td><td>0</td><td>0</td><td>&hellip;</td><td>0</td><td>0</td><td>0</td><td>1</td><td>0</td><td>0</td><td>0</td><td>1</td><td>0</td><td>0</td><td>0</td><td>1</td><td>0</td><td>0</td><td>0</td><td>1</td><td>0</td><td>0</td><td>0</td><td>1</td><td>0</td><td>0</td><td>0</td><td>0</td><td>0</td><td>0</td><td>1</td><td>0</td><td>0</td><td>0</td><td>0</td><td>0</td><td>0</td><td>0</td><td>0</td><td>13</td><td>7</td></tr><tr><td>0</td><td>0</td><td>0</td><td>0</td><td>0</td><td>0</td><td>0</td><td>0</td><td>0</td><td>0</td><td>0</td><td>0</td><td>0</td><td>0</td><td>0</td><td>0</td><td>0</td><td>0</td><td>0</td><td>0</td><td>0</td><td>0</td><td>0</td><td>0</td><td>0</td><td>0</td><td>0</td><td>0</td><td>0</td><td>0</td><td>0</td><td>0</td><td>0</td><td>0</td><td>0</td><td>0</td><td>0</td><td>&hellip;</td><td>0</td><td>0</td><td>0</td><td>1</td><td>0</td><td>0</td><td>0</td><td>1</td><td>0</td><td>0</td><td>0</td><td>1</td><td>0</td><td>0</td><td>0</td><td>1</td><td>0</td><td>0</td><td>0</td><td>1</td><td>0</td><td>0</td><td>0</td><td>0</td><td>0</td><td>0</td><td>0</td><td>0</td><td>0</td><td>0</td><td>0</td><td>0</td><td>1</td><td>0</td><td>0</td><td>50</td><td>2</td></tr></tbody></table></div>"
      ],
      "text/plain": [
       "shape: (82_797, 116)\n",
       "┌────────┬────────┬────────┬────────┬───┬────────────────┬────────────┬────────────────┬───────────┐\n",
       "│ week_1 ┆ week_2 ┆ week_3 ┆ week_4 ┆ … ┆ month_december ┆ is_workday ┆ total_duration ┆ num_sites │\n",
       "│ ---    ┆ ---    ┆ ---    ┆ ---    ┆   ┆ ---            ┆ ---        ┆ ---            ┆ ---       │\n",
       "│ i8     ┆ i8     ┆ i8     ┆ i8     ┆   ┆ i8             ┆ i64        ┆ i64            ┆ u32       │\n",
       "╞════════╪════════╪════════╪════════╪═══╪════════════════╪════════════╪════════════════╪═══════════╡\n",
       "│ 0      ┆ 0      ┆ 0      ┆ 0      ┆ … ┆ 0              ┆ 0          ┆ 7              ┆ 10        │\n",
       "│ 0      ┆ 0      ┆ 0      ┆ 0      ┆ … ┆ 0              ┆ 1          ┆ 85             ┆ 1         │\n",
       "│ 0      ┆ 0      ┆ 0      ┆ 0      ┆ … ┆ 1              ┆ 1          ┆ 84             ┆ 2         │\n",
       "│ 0      ┆ 0      ┆ 0      ┆ 0      ┆ … ┆ 0              ┆ 1          ┆ 4              ┆ 7         │\n",
       "│ 0      ┆ 0      ┆ 0      ┆ 0      ┆ … ┆ 0              ┆ 1          ┆ 13             ┆ 8         │\n",
       "│ …      ┆ …      ┆ …      ┆ …      ┆ … ┆ …              ┆ …          ┆ …              ┆ …         │\n",
       "│ 0      ┆ 0      ┆ 0      ┆ 0      ┆ … ┆ 0              ┆ 1          ┆ null           ┆ 3         │\n",
       "│ 0      ┆ 0      ┆ 0      ┆ 0      ┆ … ┆ 0              ┆ 1          ┆ 39             ┆ 6         │\n",
       "│ 0      ┆ 0      ┆ 0      ┆ 0      ┆ … ┆ 0              ┆ 1          ┆ 8              ┆ 10        │\n",
       "│ 0      ┆ 0      ┆ 0      ┆ 0      ┆ … ┆ 0              ┆ 0          ┆ 13             ┆ 7         │\n",
       "│ 0      ┆ 0      ┆ 0      ┆ 0      ┆ … ┆ 0              ┆ 0          ┆ 50             ┆ 2         │\n",
       "└────────┴────────┴────────┴────────┴───┴────────────────┴────────────┴────────────────┴───────────┘"
      ]
     },
     "execution_count": 78,
     "metadata": {},
     "output_type": "execute_result"
    }
   ],
   "source": [
    "X_test_set"
   ]
  }
 ],
 "metadata": {
  "kernelspec": {
   "display_name": "Python 3",
   "language": "python",
   "name": "python3"
  },
  "language_info": {
   "codemirror_mode": {
    "name": "ipython",
    "version": 3
   },
   "file_extension": ".py",
   "mimetype": "text/x-python",
   "name": "python",
   "nbconvert_exporter": "python",
   "pygments_lexer": "ipython3",
   "version": "3.11.2"
  }
 },
 "nbformat": 4,
 "nbformat_minor": 5
}
